{
  "nbformat": 4,
  "nbformat_minor": 0,
  "metadata": {
    "colab": {
      "name": "awabiVer_1.ipynb",
      "version": "0.3.2",
      "provenance": [],
      "include_colab_link": true
    },
    "kernelspec": {
      "name": "python3",
      "display_name": "Python 3"
    }
  },
  "cells": [
    {
      "cell_type": "markdown",
      "metadata": {
        "id": "view-in-github",
        "colab_type": "text"
      },
      "source": [
        "<a href=\"https://colab.research.google.com/github/suirindo/awabi/blob/master/awabiVer_1.ipynb\" target=\"_parent\"><img src=\"https://colab.research.google.com/assets/colab-badge.svg\" alt=\"Open In Colab\"/></a>"
      ]
    },
    {
      "cell_type": "code",
      "metadata": {
        "id": "kHBZMKbi0wfM",
        "colab_type": "code",
        "colab": {}
      },
      "source": [
        "#Googleドライブから必要データのインポート\n",
        "import google.colab\n",
        "import googleapiclient.discovery\n",
        "import googleapiclient.http"
      ],
      "execution_count": 0,
      "outputs": []
    },
    {
      "cell_type": "code",
      "metadata": {
        "id": "iGXanOxe02T1",
        "colab_type": "code",
        "colab": {}
      },
      "source": [
        "#colabからgoogleDriveへの認証と接続\n",
        "google.colab.auth.authenticate_user()\n",
        "drive_service = googleapiclient.discovery.build('drive', 'v3')"
      ],
      "execution_count": 0,
      "outputs": []
    },
    {
      "cell_type": "code",
      "metadata": {
        "id": "_QH6DHXK05_M",
        "colab_type": "code",
        "outputId": "35419a5f-62cc-48c1-b800-ae89976efb56",
        "colab": {
          "base_uri": "https://localhost:8080/",
          "height": 51
        }
      },
      "source": [
        "#colabへのファイルの取り込み\n",
        "upload_filename = 'awabi.zip'\n",
        "\n",
        "file_list = drive_service.files().list(q=\"name='\" + upload_filename + \"'\").execute().get('files')\n",
        "\n",
        "#ファイルIDの取得\n",
        "file_ID = None\n",
        "for file in file_list:\n",
        "  if file.get('name') == upload_filename:\n",
        "    file_id = file.get('id')\n",
        "    break\n",
        "\n",
        "if file_id is None:\n",
        "  #ファイルIDを取得できなかった場合はエラーメッセージを出力\n",
        "  print(upload_filename + ' が見つかりません')\n",
        "else:\n",
        "  # colab環境へファイルをアップロードする\n",
        "  with open(upload_filename, 'wb') as f:\n",
        "    request = drive_service.files().get_media(fileId=file_id)\n",
        "    media = googleapiclient.http.MediaIoBaseDownload(f, request)\n",
        "    \n",
        "    done = False\n",
        "    while not done:\n",
        "      progress_status, done = media.next_chunk()\n",
        "      print(100*progress_status.progress(), end=\"\")\n",
        "      print(\"%完了\")\n",
        "\n",
        "print('GoogleドライブからColab環境へのファイル取り込みが完了')\n"
      ],
      "execution_count": 0,
      "outputs": [
        {
          "output_type": "stream",
          "text": [
            "100.0%完了\n",
            "GoogleドライブからColab環境へのファイル取り込みが完了\n"
          ],
          "name": "stdout"
        }
      ]
    },
    {
      "cell_type": "code",
      "metadata": {
        "id": "Omn31RIs0_N-",
        "colab_type": "code",
        "outputId": "07450f52-bdd8-4aea-cd09-eefb8cda0f61",
        "colab": {
          "base_uri": "https://localhost:8080/",
          "height": 119
        }
      },
      "source": [
        "!unzip awabi.zip"
      ],
      "execution_count": 0,
      "outputs": [
        {
          "output_type": "stream",
          "text": [
            "Archive:  awabi.zip\n",
            "replace awabi/sample_submit.csv? [y]es, [n]o, [A]ll, [N]one, [r]ename: y\n",
            "  inflating: awabi/sample_submit.csv  \n",
            "replace awabi/test.csv? [y]es, [n]o, [A]ll, [N]one, [r]ename: A\n",
            "  inflating: awabi/test.csv          \n",
            "  inflating: awabi/train.csv         \n"
          ],
          "name": "stdout"
        }
      ]
    },
    {
      "cell_type": "code",
      "metadata": {
        "id": "gsQr6SvC1HAM",
        "colab_type": "code",
        "outputId": "4ce004f7-fec5-4d37-be77-d780f29f0caa",
        "colab": {
          "base_uri": "https://localhost:8080/",
          "height": 204
        }
      },
      "source": [
        "import pandas as pd\n",
        "import numpy as np\n",
        "from sklearn.linear_model import LinearRegression as LR # 線形回帰のモデル\n",
        "%matplotlib inline\n",
        "\n",
        "train = pd.read_csv('./awabi/train.csv') # 学習データの読み込み\n",
        "test = pd.read_csv('./awabi/test.csv') # 検証データの読み込み\n",
        "sample = pd.read_csv('./awabi/sample_submit.csv', header=None) # 提出用サンプルデータの読み込み\n",
        "\n",
        "# データ確認\n",
        "train.head()"
      ],
      "execution_count": 0,
      "outputs": [
        {
          "output_type": "execute_result",
          "data": {
            "text/html": [
              "<div>\n",
              "<style scoped>\n",
              "    .dataframe tbody tr th:only-of-type {\n",
              "        vertical-align: middle;\n",
              "    }\n",
              "\n",
              "    .dataframe tbody tr th {\n",
              "        vertical-align: top;\n",
              "    }\n",
              "\n",
              "    .dataframe thead th {\n",
              "        text-align: right;\n",
              "    }\n",
              "</style>\n",
              "<table border=\"1\" class=\"dataframe\">\n",
              "  <thead>\n",
              "    <tr style=\"text-align: right;\">\n",
              "      <th></th>\n",
              "      <th>id</th>\n",
              "      <th>Sex</th>\n",
              "      <th>Length</th>\n",
              "      <th>Diameter</th>\n",
              "      <th>Height</th>\n",
              "      <th>Whole weight</th>\n",
              "      <th>Shucked weight</th>\n",
              "      <th>Viscera weight</th>\n",
              "      <th>Shell weight</th>\n",
              "      <th>Rings</th>\n",
              "    </tr>\n",
              "  </thead>\n",
              "  <tbody>\n",
              "    <tr>\n",
              "      <th>0</th>\n",
              "      <td>0</td>\n",
              "      <td>M</td>\n",
              "      <td>0.530</td>\n",
              "      <td>0.435</td>\n",
              "      <td>0.155</td>\n",
              "      <td>0.6990</td>\n",
              "      <td>0.2880</td>\n",
              "      <td>0.1595</td>\n",
              "      <td>0.205</td>\n",
              "      <td>10</td>\n",
              "    </tr>\n",
              "    <tr>\n",
              "      <th>1</th>\n",
              "      <td>3</td>\n",
              "      <td>F</td>\n",
              "      <td>0.710</td>\n",
              "      <td>0.565</td>\n",
              "      <td>0.195</td>\n",
              "      <td>1.8170</td>\n",
              "      <td>0.7850</td>\n",
              "      <td>0.4920</td>\n",
              "      <td>0.490</td>\n",
              "      <td>11</td>\n",
              "    </tr>\n",
              "    <tr>\n",
              "      <th>2</th>\n",
              "      <td>7</td>\n",
              "      <td>F</td>\n",
              "      <td>0.625</td>\n",
              "      <td>0.520</td>\n",
              "      <td>0.180</td>\n",
              "      <td>1.3540</td>\n",
              "      <td>0.4845</td>\n",
              "      <td>0.3510</td>\n",
              "      <td>0.375</td>\n",
              "      <td>11</td>\n",
              "    </tr>\n",
              "    <tr>\n",
              "      <th>3</th>\n",
              "      <td>12</td>\n",
              "      <td>M</td>\n",
              "      <td>0.375</td>\n",
              "      <td>0.280</td>\n",
              "      <td>0.095</td>\n",
              "      <td>0.2225</td>\n",
              "      <td>0.0875</td>\n",
              "      <td>0.0430</td>\n",
              "      <td>0.080</td>\n",
              "      <td>10</td>\n",
              "    </tr>\n",
              "    <tr>\n",
              "      <th>4</th>\n",
              "      <td>16</td>\n",
              "      <td>I</td>\n",
              "      <td>0.415</td>\n",
              "      <td>0.330</td>\n",
              "      <td>0.090</td>\n",
              "      <td>0.3595</td>\n",
              "      <td>0.1700</td>\n",
              "      <td>0.0810</td>\n",
              "      <td>0.090</td>\n",
              "      <td>6</td>\n",
              "    </tr>\n",
              "  </tbody>\n",
              "</table>\n",
              "</div>"
            ],
            "text/plain": [
              "   id Sex  Length  ...  Viscera weight  Shell weight  Rings\n",
              "0   0   M   0.530  ...          0.1595         0.205     10\n",
              "1   3   F   0.710  ...          0.4920         0.490     11\n",
              "2   7   F   0.625  ...          0.3510         0.375     11\n",
              "3  12   M   0.375  ...          0.0430         0.080     10\n",
              "4  16   I   0.415  ...          0.0810         0.090      6\n",
              "\n",
              "[5 rows x 10 columns]"
            ]
          },
          "metadata": {
            "tags": []
          },
          "execution_count": 6
        }
      ]
    },
    {
      "cell_type": "code",
      "metadata": {
        "id": "9dSqRGQn7gYO",
        "colab_type": "code",
        "colab": {}
      },
      "source": [
        "X_train = train[[\"Length\", \"Diameter\", \"Height\",\"Whole weight\",\"Shucked weight\",\"Viscera weight\",\"Shell weight\"]]"
      ],
      "execution_count": 0,
      "outputs": []
    },
    {
      "cell_type": "code",
      "metadata": {
        "id": "EkBQZxx-1nn7",
        "colab_type": "code",
        "colab": {}
      },
      "source": [
        "y_train = train['Rings']"
      ],
      "execution_count": 0,
      "outputs": []
    },
    {
      "cell_type": "code",
      "metadata": {
        "id": "gJ1zLSZM70vK",
        "colab_type": "code",
        "colab": {}
      },
      "source": [
        "model = LR()"
      ],
      "execution_count": 0,
      "outputs": []
    },
    {
      "cell_type": "code",
      "metadata": {
        "id": "sEeVk5w174QA",
        "colab_type": "code",
        "outputId": "5a8f93e2-2d54-40e8-cdce-e5377f5de094",
        "colab": {
          "base_uri": "https://localhost:8080/",
          "height": 34
        }
      },
      "source": [
        "model.fit(X_train, y_train)"
      ],
      "execution_count": 0,
      "outputs": [
        {
          "output_type": "execute_result",
          "data": {
            "text/plain": [
              "LinearRegression(copy_X=True, fit_intercept=True, n_jobs=None, normalize=False)"
            ]
          },
          "metadata": {
            "tags": []
          },
          "execution_count": 11
        }
      ]
    },
    {
      "cell_type": "code",
      "metadata": {
        "id": "e4n0BwN88BIu",
        "colab_type": "code",
        "outputId": "1062978f-be00-4e74-e734-9be507dc03fd",
        "colab": {
          "base_uri": "https://localhost:8080/",
          "height": 51
        }
      },
      "source": [
        "#検証用データ\n",
        "X_test = test[[\"Length\", \"Diameter\", \"Height\",\"Whole weight\",\"Shucked weight\",\"Viscera weight\",\"Shell weight\"]]\n",
        "\n",
        "#予測\n",
        "pred = model.predict(X_test)\n",
        "print(pred)"
      ],
      "execution_count": 0,
      "outputs": [
        {
          "output_type": "stream",
          "text": [
            "[ 9.42675638 11.13063454 16.5527267  ... 13.14092135 12.45324729\n",
            " 11.92558643]\n"
          ],
          "name": "stdout"
        }
      ]
    },
    {
      "cell_type": "code",
      "metadata": {
        "id": "D87nmUC88PBu",
        "colab_type": "code",
        "colab": {}
      },
      "source": [
        "sample[1] = pred\n",
        "sample.to_csv('submit1.csv', index = None, header = None)"
      ],
      "execution_count": 0,
      "outputs": []
    },
    {
      "cell_type": "code",
      "metadata": {
        "id": "Jo6p8-HN8V8l",
        "colab_type": "code",
        "colab": {}
      },
      "source": [
        "from google.colab import files\n",
        "\n",
        "#with open('my_tree_one.csv', 'w') as f:\n",
        "#f.write('some content')\n",
        "  \n",
        "files.download('submit1.csv')  "
      ],
      "execution_count": 0,
      "outputs": []
    }
  ]
}
